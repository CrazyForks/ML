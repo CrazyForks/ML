{
 "cells": [
  {
   "cell_type": "code",
   "execution_count": 1,
   "metadata": {},
   "outputs": [],
   "source": [
    "from PyPDF2 import PdfReader, PdfWriter\n",
    "\n",
    "fn = '/Users/ant/Desktop/dudu/2024北京考试报-招生专业目录-202.6.20.pdf'\n",
    "\n",
    "inputpdf = PdfReader(open(fn, \"rb\"))\n",
    "\n",
    "output = PdfWriter()\n",
    "output.add_page(inputpdf.pages[31])\n",
    "with open('./Books/tsinghua.pdf', 'wb') as f:\n",
    "    output.write(f)"
   ]
  }
 ],
 "metadata": {
  "kernelspec": {
   "display_name": "ai",
   "language": "python",
   "name": "python3"
  },
  "language_info": {
   "codemirror_mode": {
    "name": "ipython",
    "version": 3
   },
   "file_extension": ".py",
   "mimetype": "text/x-python",
   "name": "python",
   "nbconvert_exporter": "python",
   "pygments_lexer": "ipython3",
   "version": "3.10.14"
  }
 },
 "nbformat": 4,
 "nbformat_minor": 2
}
